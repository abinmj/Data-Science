{
 "cells": [
  {
   "cell_type": "code",
   "execution_count": 81,
   "id": "06ff033c",
   "metadata": {},
   "outputs": [],
   "source": [
    "import numpy as np\n",
    "import pandas as pd\n",
    "import matplotlib.pyplot as plt\n",
    "import seaborn as sns\n"
   ]
  },
  {
   "cell_type": "code",
   "execution_count": 82,
   "id": "369e6860",
   "metadata": {},
   "outputs": [],
   "source": [
    "dt=pd.read_csv('Add_sales_data_2018.csv')"
   ]
  },
  {
   "cell_type": "code",
   "execution_count": 83,
   "id": "b880dd46",
   "metadata": {},
   "outputs": [
    {
     "data": {
      "text/html": [
       "<div>\n",
       "<style scoped>\n",
       "    .dataframe tbody tr th:only-of-type {\n",
       "        vertical-align: middle;\n",
       "    }\n",
       "\n",
       "    .dataframe tbody tr th {\n",
       "        vertical-align: top;\n",
       "    }\n",
       "\n",
       "    .dataframe thead th {\n",
       "        text-align: right;\n",
       "    }\n",
       "</style>\n",
       "<table border=\"1\" class=\"dataframe\">\n",
       "  <thead>\n",
       "    <tr style=\"text-align: right;\">\n",
       "      <th></th>\n",
       "      <th>Date</th>\n",
       "      <th>Add1(in Thousands)</th>\n",
       "      <th>Add2(in Thousands)</th>\n",
       "      <th>Add3(in Thousands)</th>\n",
       "      <th>Add4(in Thousands)</th>\n",
       "      <th>Add5(in Thousands)</th>\n",
       "      <th>Profit(in Thousands)</th>\n",
       "    </tr>\n",
       "  </thead>\n",
       "  <tbody>\n",
       "    <tr>\n",
       "      <th>0</th>\n",
       "      <td>2018-10-08</td>\n",
       "      <td>208.00</td>\n",
       "      <td>222.25</td>\n",
       "      <td>206.85</td>\n",
       "      <td>216.00</td>\n",
       "      <td>215.15</td>\n",
       "      <td>4093.065</td>\n",
       "    </tr>\n",
       "    <tr>\n",
       "      <th>1</th>\n",
       "      <td>2018-10-05</td>\n",
       "      <td>217.00</td>\n",
       "      <td>218.60</td>\n",
       "      <td>205.90</td>\n",
       "      <td>210.25</td>\n",
       "      <td>209.20</td>\n",
       "      <td>4042.448</td>\n",
       "    </tr>\n",
       "    <tr>\n",
       "      <th>2</th>\n",
       "      <td>2018-10-04</td>\n",
       "      <td>223.50</td>\n",
       "      <td>227.80</td>\n",
       "      <td>216.15</td>\n",
       "      <td>217.25</td>\n",
       "      <td>218.20</td>\n",
       "      <td>4213.819</td>\n",
       "    </tr>\n",
       "    <tr>\n",
       "      <th>3</th>\n",
       "      <td>2018-10-03</td>\n",
       "      <td>230.00</td>\n",
       "      <td>237.50</td>\n",
       "      <td>225.75</td>\n",
       "      <td>226.45</td>\n",
       "      <td>227.60</td>\n",
       "      <td>4391.665</td>\n",
       "    </tr>\n",
       "    <tr>\n",
       "      <th>4</th>\n",
       "      <td>2018-10-01</td>\n",
       "      <td>234.55</td>\n",
       "      <td>234.60</td>\n",
       "      <td>221.05</td>\n",
       "      <td>230.30</td>\n",
       "      <td>230.90</td>\n",
       "      <td>4350.683</td>\n",
       "    </tr>\n",
       "  </tbody>\n",
       "</table>\n",
       "</div>"
      ],
      "text/plain": [
       "         Date  Add1(in Thousands)  Add2(in Thousands)  Add3(in Thousands)  \\\n",
       "0  2018-10-08              208.00              222.25              206.85   \n",
       "1  2018-10-05              217.00              218.60              205.90   \n",
       "2  2018-10-04              223.50              227.80              216.15   \n",
       "3  2018-10-03              230.00              237.50              225.75   \n",
       "4  2018-10-01              234.55              234.60              221.05   \n",
       "\n",
       "   Add4(in Thousands)  Add5(in Thousands)  Profit(in Thousands)  \n",
       "0              216.00              215.15              4093.065  \n",
       "1              210.25              209.20              4042.448  \n",
       "2              217.25              218.20              4213.819  \n",
       "3              226.45              227.60              4391.665  \n",
       "4              230.30              230.90              4350.683  "
      ]
     },
     "execution_count": 83,
     "metadata": {},
     "output_type": "execute_result"
    }
   ],
   "source": [
    "dt.head()"
   ]
  },
  {
   "cell_type": "code",
   "execution_count": 84,
   "id": "0f1b50f8",
   "metadata": {},
   "outputs": [
    {
     "name": "stdout",
     "output_type": "stream",
     "text": [
      "<class 'pandas.core.frame.DataFrame'>\n",
      "RangeIndex: 205 entries, 0 to 204\n",
      "Data columns (total 7 columns):\n",
      " #   Column                Non-Null Count  Dtype  \n",
      "---  ------                --------------  -----  \n",
      " 0   Date                  205 non-null    object \n",
      " 1   Add1(in Thousands)    205 non-null    float64\n",
      " 2   Add2(in Thousands)    205 non-null    float64\n",
      " 3   Add3(in Thousands)    205 non-null    float64\n",
      " 4   Add4(in Thousands)    205 non-null    float64\n",
      " 5   Add5(in Thousands)    205 non-null    float64\n",
      " 6   Profit(in Thousands)  205 non-null    float64\n",
      "dtypes: float64(6), object(1)\n",
      "memory usage: 10.5+ KB\n"
     ]
    }
   ],
   "source": [
    "dt.info()"
   ]
  },
  {
   "cell_type": "markdown",
   "id": "ab52a623",
   "metadata": {},
   "source": [
    "# 1. First of all, check whether there is any relationship between the amount spent for advertising through five different companies and profit generated.\n"
   ]
  },
  {
   "cell_type": "code",
   "execution_count": 85,
   "id": "9e080310",
   "metadata": {},
   "outputs": [
    {
     "data": {
      "text/html": [
       "<div>\n",
       "<style scoped>\n",
       "    .dataframe tbody tr th:only-of-type {\n",
       "        vertical-align: middle;\n",
       "    }\n",
       "\n",
       "    .dataframe tbody tr th {\n",
       "        vertical-align: top;\n",
       "    }\n",
       "\n",
       "    .dataframe thead th {\n",
       "        text-align: right;\n",
       "    }\n",
       "</style>\n",
       "<table border=\"1\" class=\"dataframe\">\n",
       "  <thead>\n",
       "    <tr style=\"text-align: right;\">\n",
       "      <th></th>\n",
       "      <th>Add1(in Thousands)</th>\n",
       "      <th>Add2(in Thousands)</th>\n",
       "      <th>Add3(in Thousands)</th>\n",
       "      <th>Add4(in Thousands)</th>\n",
       "      <th>Add5(in Thousands)</th>\n",
       "      <th>Profit(in Thousands)</th>\n",
       "    </tr>\n",
       "  </thead>\n",
       "  <tbody>\n",
       "    <tr>\n",
       "      <th>Add1(in Thousands)</th>\n",
       "      <td>1.000000</td>\n",
       "      <td>0.990976</td>\n",
       "      <td>0.986274</td>\n",
       "      <td>0.976365</td>\n",
       "      <td>0.976716</td>\n",
       "      <td>0.991975</td>\n",
       "    </tr>\n",
       "    <tr>\n",
       "      <th>Add2(in Thousands)</th>\n",
       "      <td>0.990976</td>\n",
       "      <td>1.000000</td>\n",
       "      <td>0.987990</td>\n",
       "      <td>0.989921</td>\n",
       "      <td>0.990285</td>\n",
       "      <td>0.999145</td>\n",
       "    </tr>\n",
       "    <tr>\n",
       "      <th>Add3(in Thousands)</th>\n",
       "      <td>0.986274</td>\n",
       "      <td>0.987990</td>\n",
       "      <td>1.000000</td>\n",
       "      <td>0.991343</td>\n",
       "      <td>0.991908</td>\n",
       "      <td>0.993389</td>\n",
       "    </tr>\n",
       "    <tr>\n",
       "      <th>Add4(in Thousands)</th>\n",
       "      <td>0.976365</td>\n",
       "      <td>0.989921</td>\n",
       "      <td>0.991343</td>\n",
       "      <td>1.000000</td>\n",
       "      <td>0.999699</td>\n",
       "      <td>0.993346</td>\n",
       "    </tr>\n",
       "    <tr>\n",
       "      <th>Add5(in Thousands)</th>\n",
       "      <td>0.976716</td>\n",
       "      <td>0.990285</td>\n",
       "      <td>0.991908</td>\n",
       "      <td>0.999699</td>\n",
       "      <td>1.000000</td>\n",
       "      <td>0.993710</td>\n",
       "    </tr>\n",
       "    <tr>\n",
       "      <th>Profit(in Thousands)</th>\n",
       "      <td>0.991975</td>\n",
       "      <td>0.999145</td>\n",
       "      <td>0.993389</td>\n",
       "      <td>0.993346</td>\n",
       "      <td>0.993710</td>\n",
       "      <td>1.000000</td>\n",
       "    </tr>\n",
       "  </tbody>\n",
       "</table>\n",
       "</div>"
      ],
      "text/plain": [
       "                      Add1(in Thousands)  Add2(in Thousands)  \\\n",
       "Add1(in Thousands)              1.000000            0.990976   \n",
       "Add2(in Thousands)              0.990976            1.000000   \n",
       "Add3(in Thousands)              0.986274            0.987990   \n",
       "Add4(in Thousands)              0.976365            0.989921   \n",
       "Add5(in Thousands)              0.976716            0.990285   \n",
       "Profit(in Thousands)            0.991975            0.999145   \n",
       "\n",
       "                      Add3(in Thousands)  Add4(in Thousands)  \\\n",
       "Add1(in Thousands)              0.986274            0.976365   \n",
       "Add2(in Thousands)              0.987990            0.989921   \n",
       "Add3(in Thousands)              1.000000            0.991343   \n",
       "Add4(in Thousands)              0.991343            1.000000   \n",
       "Add5(in Thousands)              0.991908            0.999699   \n",
       "Profit(in Thousands)            0.993389            0.993346   \n",
       "\n",
       "                      Add5(in Thousands)  Profit(in Thousands)  \n",
       "Add1(in Thousands)              0.976716              0.991975  \n",
       "Add2(in Thousands)              0.990285              0.999145  \n",
       "Add3(in Thousands)              0.991908              0.993389  \n",
       "Add4(in Thousands)              0.999699              0.993346  \n",
       "Add5(in Thousands)              1.000000              0.993710  \n",
       "Profit(in Thousands)            0.993710              1.000000  "
      ]
     },
     "execution_count": 85,
     "metadata": {},
     "output_type": "execute_result"
    }
   ],
   "source": [
    "co=dt.corr()\n",
    "co"
   ]
  },
  {
   "cell_type": "code",
   "execution_count": 86,
   "id": "da0d82f4",
   "metadata": {
    "scrolled": true
   },
   "outputs": [
    {
     "data": {
      "image/png": "[encoded data removed]",
      "text/plain": [
       "<Figure size 720x360 with 2 Axes>"
      ]
     },
     "metadata": {
      "needs_background": "light"
     },
     "output_type": "display_data"
    }
   ],
   "source": [
    "plt.figure(figsize=(10,5))\n",
    "sns.heatmap(data=co,cmap='YlOrRd',annot=True,linewidth=0.1)\n",
    "plt.show()"
   ]
  },
  {
   "cell_type": "markdown",
   "id": "9ca9de85",
   "metadata": {},
   "source": [
    "Insight :\n",
    "\n",
    "We can observe a positive correlation between the amount spent for advertising through five different companies and profit generated ."
   ]
  },
  {
   "cell_type": "markdown",
   "id": "536c946e",
   "metadata": {},
   "source": [
    "# 2. Build a regression model to predict the profit from the given data and comment your findings on it."
   ]
  },
  {
   "cell_type": "code",
   "execution_count": 87,
   "id": "b6a3d9e8",
   "metadata": {},
   "outputs": [],
   "source": [
    "\n",
    "y=dt['Profit(in Thousands)']                       #storing dependent variable\n",
    "x=dt.drop(['Profit(in Thousands)','Date'],axis=1)  #storing independent variable"
   ]
  },
  {
   "cell_type": "code",
   "execution_count": 88,
   "id": "ccd7dcb9",
   "metadata": {},
   "outputs": [],
   "source": [
    "#splitting dataset\n",
    "from sklearn.model_selection import train_test_split\n",
    "x_train,x_test,y_train,y_test=train_test_split(x,y,random_state=0,test_size=0.3)\n"
   ]
  },
  {
   "cell_type": "code",
   "execution_count": 89,
   "id": "85ff666e",
   "metadata": {},
   "outputs": [],
   "source": [
    "#LINEAR REGRESSION\n",
    "\n",
    "from sklearn import linear_model\n",
    "lr=linear_model.LinearRegression()\n",
    "md1=lr.fit(x_train,y_train)\n"
   ]
  },
  {
   "cell_type": "code",
   "execution_count": 90,
   "id": "833723ef",
   "metadata": {},
   "outputs": [
    {
     "data": {
      "text/plain": [
       "array([4494.144, 5921.116, 4404.686, 4190.965, 5880.541, 5728.804,\n",
       "       5225.14 , 5017.503, 5518.561, 4513.6  , 4464.11 , 5140.372,\n",
       "       4760.877, 5038.222, 4606.34 , 5730.999, 4922.845, 4470.775,\n",
       "       4480.363, 5065.652, 5043.705, 5491.792, 4968.03 , 5792.175,\n",
       "       6137.8  , 5247.011, 5137.534, 5373.275, 5212.949, 4898.776,\n",
       "       5972.337, 5745.806, 5153.977, 5805.521, 4763.69 , 4175.677,\n",
       "       5938.474, 4915.682, 4523.704, 5113.337, 4648.627, 4350.683,\n",
       "       4916.064, 4934.682, 5108.626, 5167.878, 4451.999, 4980.446,\n",
       "       5177.61 , 5861.83 , 4425.005, 4887.296, 5267.657, 5088.455,\n",
       "       5163.693, 5430.79 , 5250.775, 5435.316, 5134.657, 4435.174,\n",
       "       4598.292, 4979.399])"
      ]
     },
     "execution_count": 90,
     "metadata": {},
     "output_type": "execute_result"
    }
   ],
   "source": [
    "pd1=md1.predict(x_test)\n",
    "pd1\n"
   ]
  },
  {
   "cell_type": "code",
   "execution_count": 91,
   "id": "cde82a08",
   "metadata": {},
   "outputs": [
    {
     "name": "stdout",
     "output_type": "stream",
     "text": [
      "Mean Squared Error = 3.388772186910791e-24\n"
     ]
    }
   ],
   "source": [
    "from sklearn.metrics import mean_squared_error\n",
    "mean_squared_error(pd1,y_test)\n",
    "print('Mean Squared Error =',mean_squared_error(y_pred,y_test))"
   ]
  },
  {
   "cell_type": "code",
   "execution_count": 92,
   "id": "3b6d7cc8",
   "metadata": {},
   "outputs": [
    {
     "name": "stdout",
     "output_type": "stream",
     "text": [
      "R2 value =  1.0\n"
     ]
    }
   ],
   "source": [
    "from sklearn.metrics import r2_score\n",
    "lr_r2=r2_score(pd1,y_test)\n",
    "print('R2 value = ',lr_r2)"
   ]
  },
  {
   "cell_type": "markdown",
   "id": "6b24c477",
   "metadata": {},
   "source": [
    "MSE received is 3.388772186910791e-24 and Rsquare value =1"
   ]
  },
  {
   "cell_type": "markdown",
   "id": "68b5f882",
   "metadata": {},
   "source": [
    "# 3. Predict the profit generated by the company, if they wish to spend the following amount for advertisement.\n",
    "## Add1(in Thousands) 290\n",
    "## Add2(in Thousands) 312\n",
    "## Add3(in Thousands) 309\n",
    "## Add4(in Thousands) 298\n",
    "## Add5(in Thousands) 320"
   ]
  },
  {
   "cell_type": "code",
   "execution_count": 94,
   "id": "b1968339",
   "metadata": {},
   "outputs": [
    {
     "data": {
      "text/plain": [
       "array([5820.06])"
      ]
     },
     "execution_count": 94,
     "metadata": {},
     "output_type": "execute_result"
    }
   ],
   "source": [
    "md1.predict(np.array([[290,312,309,298,320]]))"
   ]
  },
  {
   "cell_type": "markdown",
   "id": "6112915a",
   "metadata": {},
   "source": [
    "Profit generated = 5820 (in Thousands)"
   ]
  },
  {
   "cell_type": "code",
   "execution_count": null,
   "id": "211c623c",
   "metadata": {},
   "outputs": [],
   "source": []
  }
 ],
 "metadata": {
  "kernelspec": {
   "display_name": "Python 3",
   "language": "python",
   "name": "python3"
  },
  "language_info": {
   "codemirror_mode": {
    "name": "ipython",
    "version": 3
   },
   "file_extension": ".py",
   "mimetype": "text/x-python",
   "name": "python",
   "nbconvert_exporter": "python",
   "pygments_lexer": "ipython3",
   "version": "3.8.8"
  }
 },
 "nbformat": 4,
 "nbformat_minor": 5
}
